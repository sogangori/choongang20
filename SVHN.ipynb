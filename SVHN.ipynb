{
  "nbformat": 4,
  "nbformat_minor": 0,
  "metadata": {
    "colab": {
      "name": "SVHN.ipynb",
      "provenance": [],
      "collapsed_sections": [],
      "authorship_tag": "ABX9TyO48WkC35dgV12G2Qyn/Z4F",
      "include_colab_link": true
    },
    "kernelspec": {
      "name": "python3",
      "display_name": "Python 3"
    }
  },
  "cells": [
    {
      "cell_type": "markdown",
      "metadata": {
        "id": "view-in-github",
        "colab_type": "text"
      },
      "source": [
        "<a href=\"https://colab.research.google.com/github/sogangori/choongang20/blob/master/SVHN.ipynb\" target=\"_parent\"><img src=\"https://colab.research.google.com/assets/colab-badge.svg\" alt=\"Open In Colab\"/></a>"
      ]
    },
    {
      "cell_type": "markdown",
      "metadata": {
        "id": "RPUMfsiB-e-_",
        "colab_type": "text"
      },
      "source": [
        "미션 :\n",
        "- 데이터획득: .mat 에서 x, y 를 가져옵니다\n",
        "- 전처리 :  x, y 를 학습할 수 있게 만듭니다\n",
        "   - x : (h,w,c,m) > (m,h,w,c) 로 수정\n",
        "   - y : (m,1) > (m) 로 수정\n",
        "     - y 의 라벨을 확인하세요. 숫자 0 의 라벨이 '10'입니다. 이것을 0으로 수정하세요\n",
        "- 모델 생성: CNN, RNN, CRNN 등의 모델을 만듭니다\n",
        "- 학습 및 평가: 데이터를 학습시키고 성능을 측정합니다"
      ]
    },
    {
      "cell_type": "code",
      "metadata": {
        "id": "KY01ABiU9i8t",
        "colab_type": "code",
        "colab": {}
      },
      "source": [
        "from google.colab import files"
      ],
      "execution_count": 0,
      "outputs": []
    },
    {
      "cell_type": "code",
      "metadata": {
        "id": "A5hjRXfJ9096",
        "colab_type": "code",
        "colab": {}
      },
      "source": [
        "# 파일 업로드 방식\n",
        "uploaded = files.upload()"
      ],
      "execution_count": 0,
      "outputs": []
    },
    {
      "cell_type": "code",
      "metadata": {
        "id": "oFoB958a93vr",
        "colab_type": "code",
        "colab": {}
      },
      "source": [
        "# 구글 드라이브에 파일을 업로드해두고 읽는 방식\n",
        "from google.colab import drive\n",
        "drive.mount('/content/drive')"
      ],
      "execution_count": 0,
      "outputs": []
    },
    {
      "cell_type": "code",
      "metadata": {
        "id": "mym35SQ3TYVC",
        "colab_type": "code",
        "colab": {}
      },
      "source": [
        "import numpy as np\n",
        "from scipy.io import loadmat\n",
        "import matplotlib.pyplot as plt"
      ],
      "execution_count": 0,
      "outputs": []
    },
    {
      "cell_type": "code",
      "metadata": {
        "id": "Czpcdux2TrBx",
        "colab_type": "code",
        "colab": {}
      },
      "source": [
        "mat = loadmat('test_32x32.mat')\n",
        "mat.keys()"
      ],
      "execution_count": 0,
      "outputs": []
    },
    {
      "cell_type": "code",
      "metadata": {
        "id": "ytX_A2IsTszA",
        "colab_type": "code",
        "colab": {
          "base_uri": "https://localhost:8080/",
          "height": 35
        },
        "outputId": "a39991ef-cc83-467b-eebe-aa3f6c40365d"
      },
      "source": [
        "# 데이터 획득\n",
        "x = mat['X']\n",
        "y = mat['y']\n",
        "x.shape, y.shape"
      ],
      "execution_count": 7,
      "outputs": [
        {
          "output_type": "execute_result",
          "data": {
            "text/plain": [
              "((32, 32, 3, 26032), (26032, 1))"
            ]
          },
          "metadata": {
            "tags": []
          },
          "execution_count": 7
        }
      ]
    },
    {
      "cell_type": "code",
      "metadata": {
        "id": "utngCN0HYdDL",
        "colab_type": "code",
        "colab": {
          "base_uri": "https://localhost:8080/",
          "height": 35
        },
        "outputId": "9ef5f6d2-4a8c-43c3-dade-2b14a2a8b147"
      },
      "source": [
        "# 전처리\n",
        "x = np.transpose(x, [3,0,1,2])\n",
        "y = y[:, 0]\n",
        "x.shape, y.shape"
      ],
      "execution_count": 8,
      "outputs": [
        {
          "output_type": "execute_result",
          "data": {
            "text/plain": [
              "((26032, 32, 32, 3), (26032,))"
            ]
          },
          "metadata": {
            "tags": []
          },
          "execution_count": 8
        }
      ]
    },
    {
      "cell_type": "code",
      "metadata": {
        "id": "ZJATtJoeYipr",
        "colab_type": "code",
        "colab": {
          "base_uri": "https://localhost:8080/",
          "height": 35
        },
        "outputId": "11af4720-1579-4467-cab9-86976456c675"
      },
      "source": [
        "# y 에서 10값을 0으로 바꾸기\n",
        "y = np.where(y > 9, 0, y)\n",
        "set(y)"
      ],
      "execution_count": 15,
      "outputs": [
        {
          "output_type": "execute_result",
          "data": {
            "text/plain": [
              "{0, 1, 2, 3, 4, 5, 6, 7, 8, 9}"
            ]
          },
          "metadata": {
            "tags": []
          },
          "execution_count": 15
        }
      ]
    },
    {
      "cell_type": "code",
      "metadata": {
        "id": "oBR-kuMmY6ic",
        "colab_type": "code",
        "colab": {}
      },
      "source": [
        "#모델 생성\n"
      ],
      "execution_count": 0,
      "outputs": []
    }
  ]
}