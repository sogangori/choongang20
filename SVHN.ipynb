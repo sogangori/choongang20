{
  "nbformat": 4,
  "nbformat_minor": 0,
  "metadata": {
    "colab": {
      "name": "SVHN.ipynb",
      "provenance": [],
      "collapsed_sections": [],
      "authorship_tag": "ABX9TyOc3D31LgiaZKXkQSS19MeG",
      "include_colab_link": true
    },
    "kernelspec": {
      "name": "python3",
      "display_name": "Python 3"
    }
  },
  "cells": [
    {
      "cell_type": "markdown",
      "metadata": {
        "id": "view-in-github",
        "colab_type": "text"
      },
      "source": [
        "<a href=\"https://colab.research.google.com/github/sogangori/choongang20/blob/master/SVHN.ipynb\" target=\"_parent\"><img src=\"https://colab.research.google.com/assets/colab-badge.svg\" alt=\"Open In Colab\"/></a>"
      ]
    },
    {
      "cell_type": "markdown",
      "metadata": {
        "id": "RPUMfsiB-e-_",
        "colab_type": "text"
      },
      "source": [
        "미션 :\n",
        "- 데이터획득: .mat 에서 x, y 를 가져옵니다\n",
        "- 전처리 :  x, y 를 학습할 수 있게 만듭니다\n",
        "   - x : (h,w,c,m) > (m,h,w,c) 로 수정\n",
        "   - y : (m,1) > (m) 로 수정\n",
        "     - y 의 라벨을 확인하세요. 숫자 0 의 라벨이 '10'입니다. 이것을 0으로 수정하세요\n",
        "- 모델 생성: CNN, RNN, CRNN 등의 모델을 만듭니다\n",
        "- 학습 및 평가: 데이터를 학습시키고 성능을 측정합니다"
      ]
    },
    {
      "cell_type": "code",
      "metadata": {
        "id": "KY01ABiU9i8t",
        "colab_type": "code",
        "colab": {
          "base_uri": "https://localhost:8080/",
          "height": 108
        },
        "outputId": "7ade71fa-6708-4bc8-f7f2-591212db263b"
      },
      "source": [
        "%tensorflow_version 2.0x\n",
        "import tensorflow as tf\n",
        "from tensorflow import keras\n",
        "from google.colab import files"
      ],
      "execution_count": 1,
      "outputs": [
        {
          "output_type": "stream",
          "text": [
            "`%tensorflow_version` only switches the major version: `1.x` or `2.x`.\n",
            "You set: `2.0x`. This will be interpreted as: `2.x`.\n",
            "\n",
            "\n",
            "TensorFlow 2.x selected.\n"
          ],
          "name": "stdout"
        }
      ]
    },
    {
      "cell_type": "code",
      "metadata": {
        "id": "oFoB958a93vr",
        "colab_type": "code",
        "colab": {
          "base_uri": "https://localhost:8080/",
          "height": 55
        },
        "outputId": "9335cbb5-20d5-425e-b6f9-21bca015cdb4"
      },
      "source": [
        "# 구글 드라이브에 파일을 업로드해두고 읽는 방식\n",
        "from google.colab import drive\n",
        "drive.mount('/content/drive')"
      ],
      "execution_count": 3,
      "outputs": [
        {
          "output_type": "stream",
          "text": [
            "Drive already mounted at /content/drive; to attempt to forcibly remount, call drive.mount(\"/content/drive\", force_remount=True).\n"
          ],
          "name": "stdout"
        }
      ]
    },
    {
      "cell_type": "code",
      "metadata": {
        "id": "mym35SQ3TYVC",
        "colab_type": "code",
        "colab": {}
      },
      "source": [
        "import numpy as np\n",
        "from scipy.io import loadmat\n",
        "import matplotlib.pyplot as plt"
      ],
      "execution_count": 0,
      "outputs": []
    },
    {
      "cell_type": "code",
      "metadata": {
        "id": "Czpcdux2TrBx",
        "colab_type": "code",
        "colab": {
          "base_uri": "https://localhost:8080/",
          "height": 35
        },
        "outputId": "ab114639-6e41-4f82-fa0a-08596b3d5490"
      },
      "source": [
        "mat = loadmat('test_32x32.mat')\n",
        "mat.keys()"
      ],
      "execution_count": 5,
      "outputs": [
        {
          "output_type": "execute_result",
          "data": {
            "text/plain": [
              "dict_keys(['__header__', '__version__', '__globals__', 'X', 'y'])"
            ]
          },
          "metadata": {
            "tags": []
          },
          "execution_count": 5
        }
      ]
    },
    {
      "cell_type": "code",
      "metadata": {
        "id": "ytX_A2IsTszA",
        "colab_type": "code",
        "colab": {
          "base_uri": "https://localhost:8080/",
          "height": 35
        },
        "outputId": "e4627d11-8b6f-472a-b0e4-60beeb3f12f1"
      },
      "source": [
        "# 데이터 획득\n",
        "x = mat['X']\n",
        "y = mat['y']\n",
        "x.shape, y.shape"
      ],
      "execution_count": 6,
      "outputs": [
        {
          "output_type": "execute_result",
          "data": {
            "text/plain": [
              "((32, 32, 3, 26032), (26032, 1))"
            ]
          },
          "metadata": {
            "tags": []
          },
          "execution_count": 6
        }
      ]
    },
    {
      "cell_type": "code",
      "metadata": {
        "id": "utngCN0HYdDL",
        "colab_type": "code",
        "colab": {
          "base_uri": "https://localhost:8080/",
          "height": 35
        },
        "outputId": "56853142-b51c-4433-bcdf-90aa7aab613b"
      },
      "source": [
        "# 전처리\n",
        "x = np.transpose(x, [3,0,1,2])/255\n",
        "y = y[:, 0]\n",
        "x.shape, y.shape, np.max(x)"
      ],
      "execution_count": 7,
      "outputs": [
        {
          "output_type": "execute_result",
          "data": {
            "text/plain": [
              "((26032, 32, 32, 3), (26032,), 1.0)"
            ]
          },
          "metadata": {
            "tags": []
          },
          "execution_count": 7
        }
      ]
    },
    {
      "cell_type": "code",
      "metadata": {
        "id": "ZJATtJoeYipr",
        "colab_type": "code",
        "colab": {
          "base_uri": "https://localhost:8080/",
          "height": 35
        },
        "outputId": "07565191-89a7-472b-eff3-c7ae564b88d6"
      },
      "source": [
        "# y 에서 10값을 0으로 바꾸기\n",
        "y = np.where(y > 9, 0, y)\n",
        "set(y)"
      ],
      "execution_count": 8,
      "outputs": [
        {
          "output_type": "execute_result",
          "data": {
            "text/plain": [
              "{0, 1, 2, 3, 4, 5, 6, 7, 8, 9}"
            ]
          },
          "metadata": {
            "tags": []
          },
          "execution_count": 8
        }
      ]
    },
    {
      "cell_type": "code",
      "metadata": {
        "id": "izPNy36D_p_A",
        "colab_type": "code",
        "colab": {}
      },
      "source": [
        "m = len(y)//2\n",
        "x_train = x[:m]\n",
        "y_train = y[:m]\n",
        "x_test = x[m:m*2]\n",
        "y_test = y[m:m*2]"
      ],
      "execution_count": 0,
      "outputs": []
    },
    {
      "cell_type": "code",
      "metadata": {
        "id": "UAqwPZ9z__pm",
        "colab_type": "code",
        "colab": {}
      },
      "source": [
        "def attach_3_image(x, y):\n",
        "  #영상을 좌우로 붙여서 3자리수 데이터를 만듭니다 x (m,h,w,c), y (m) \n",
        "  m = len(y)\n",
        "  m = m - m % 3 \n",
        "  x, y = x[:m], y[:m]# 3의 배수의 데이터수 사용    \n",
        "  pad = 6\n",
        "  x = x[:, :, pad:-pad]#영상 좌우 6 px 제거\n",
        "  x_attach = np.concatenate((x[::3], x[1::3], x[2::3]), axis=2)\n",
        "  y_attach = np.reshape(y, [-1, 3])\n",
        "  return x_attach, y_attach"
      ],
      "execution_count": 0,
      "outputs": []
    },
    {
      "cell_type": "code",
      "metadata": {
        "id": "bcMwv1OVAwL4",
        "colab_type": "code",
        "colab": {
          "base_uri": "https://localhost:8080/",
          "height": 35
        },
        "outputId": "237df742-2ea9-4641-dd52-2720c32c5689"
      },
      "source": [
        "x3_train, y3_train = attach_3_image(x_train, y_train)\n",
        "x3_test, y3_test = attach_3_image(x_test, y_test)\n",
        "x3_train.shape, y3_train.shape, x3_test.shape, y3_test.shape"
      ],
      "execution_count": 11,
      "outputs": [
        {
          "output_type": "execute_result",
          "data": {
            "text/plain": [
              "((4338, 32, 60, 3), (4338, 3), (4338, 32, 60, 3), (4338, 3))"
            ]
          },
          "metadata": {
            "tags": []
          },
          "execution_count": 11
        }
      ]
    },
    {
      "cell_type": "code",
      "metadata": {
        "id": "6ZBcTvizBTP5",
        "colab_type": "code",
        "colab": {
          "base_uri": "https://localhost:8080/",
          "height": 299
        },
        "outputId": "a8415a53-814d-4b9a-e766-3a90e6a707b1"
      },
      "source": [
        "i = 0\n",
        "n = 10\n",
        "m,h,w,c = x3_train.shape\n",
        "plt.title(str(y3_train[i:i+n].reshape([-1])))\n",
        "#sample = np.transpose(x3_train[i:i+n], [1,0,2,3]).reshape((h,-1,c))\n",
        "sample = x3_train[i:i+n].reshape((-1,w,c))\n",
        "plt.imshow(sample)"
      ],
      "execution_count": 12,
      "outputs": [
        {
          "output_type": "execute_result",
          "data": {
            "text/plain": [
              "<matplotlib.image.AxesImage at 0x7f591b45f518>"
            ]
          },
          "metadata": {
            "tags": []
          },
          "execution_count": 12
        },
        {
          "output_type": "display_data",
          "data": {
            "image/png": "[encoded data removed]",
            "text/plain": [
              "<Figure size 432x288 with 1 Axes>"
            ]
          },
          "metadata": {
            "tags": []
          }
        }
      ]
    },
    {
      "cell_type": "markdown",
      "metadata": {
        "id": "bptDIdsTW8zx",
        "colab_type": "text"
      },
      "source": [
        "![CNN 모델](http://ww4.sinaimg.cn/large/006tNbRwgw1fawztq64xuj30ib0d1wf8.jpg)"
      ]
    },
    {
      "cell_type": "code",
      "metadata": {
        "id": "acFJvH6xoacm",
        "colab_type": "code",
        "colab": {}
      },
      "source": [
        "class MyModel(keras.Model): # github.com/sogangori/choongang20/ \n",
        "  def __init__(self):    \n",
        "    super(MyModel, self).__init__()\n",
        "    self.k = 10\n",
        "    self.seq = 3\n",
        "    self.opt = tf.optimizers.RMSprop(learning_rate=0.01)\n",
        "    self.conv0 = keras.layers.Conv2D(16, [3,3], padding='same', activation=keras.activations.relu)\n",
        "    self.conv1 = keras.layers.Conv2D(16, [3,3], padding='same', activation=keras.activations.relu)\n",
        "    self.conv2 = keras.layers.Conv2D(16, [3,3], padding='same', activation=keras.activations.relu)\n",
        "    self.conv3 = keras.layers.Conv2D(16, [3,3], padding='same', activation=keras.activations.relu)\n",
        "    self.pool = keras.layers.MaxPool2D([2,2], padding='same')\n",
        "    self.flatten = keras.layers.Flatten()\n",
        "    self.dense = keras.layers.Dense(units=self.k*self.seq)\n",
        "  \n",
        "  def call(self, x):\n",
        "    x = tf.cast(x, tf.float32)\n",
        "    net = self.conv0(x)\n",
        "    net = self.pool(net)\n",
        "    net = self.conv1(net)\n",
        "    net = self.pool(net)\n",
        "    net = self.conv2(net)\n",
        "    net = self.pool(net)\n",
        "    net = self.conv3(net)\n",
        "    net = self.pool(net)\n",
        "    net = self.flatten(net)    \n",
        "    h = self.dense(net)\n",
        "    h = tf.reshape(h, [-1, self.seq, self.k])\n",
        "    h = tf.nn.softmax(h, axis=-1)\n",
        "    return h\n",
        "\n",
        "  def get_loss(self, y, h):\n",
        "    #학습할때 nan이 발생하는 경우 값을 clip(자르다) (최소값, 최대값) \n",
        "    h = tf.clip_by_value(h, 1e-6, 1 - 1e-6) # h 가 0이나 1이 되지 않도록 하는 안전장치 \n",
        "    #cross_entropy = - (y * tf.math.log(h) + (1 - y) * tf.math.log(1 - h)) \n",
        "    cross_entropy = - (y * tf.math.log(h)) #좌측항만 사용해도 학습 가능\n",
        "    loss = tf.reduce_mean(cross_entropy)\n",
        "    w_mean = [(tf.reduce_mean(tf.square(w))) for w in self.trainable_variables]\n",
        "    loss_regularization = tf.reduce_mean(w_mean)#weight 가 커지지 않도록 제한하는 로스\n",
        "    return loss + 0.0001 * loss_regularization\n",
        "\n",
        "  def get_accuracy(self, y, h):    \n",
        "    predict = tf.argmax(h, -1)\n",
        "    is_equal = tf.equal(y, predict)\n",
        "    acc = tf.reduce_mean(tf.cast(is_equal, tf.float32)) # True > 1, False > 0 로 cast\n",
        "    acc_all = tf.reduce_mean(tf.cast(tf.reduce_all(is_equal, axis=1), tf.float32))\n",
        "    return acc, acc_all\n",
        "\n",
        "  def fit(self, x, y, epoch=1, batch_m=100):    \n",
        "    for i in range(epoch):#학습 횟수\n",
        "      iteration = (len(y)-1)//batch_m + 1\n",
        "      for j in range(iteration):#배치 갯수\n",
        "        start = j * batch_m\n",
        "        end = (j+1) * batch_m\n",
        "        x_batch = x[start:end]\n",
        "        y_batch = y[start:end]\n",
        "        y_hot = tf.one_hot(y_batch, depth=self.k, axis=-1)\n",
        "        with tf.GradientTape() as tape: #경사 기록 장치\n",
        "          h = self.call(x_batch)\n",
        "          loss = self.get_loss(y_hot, h)         \n",
        "        grads = tape.gradient(loss, self.trainable_variables) #경사 계산\n",
        "        #경사가 너무 크면 nan 이 될 수 있으므로 gradient cliping (최소,최대값 제한) 을 합니다\n",
        "        grads = [(tf.clip_by_value(grad, -8.0, 8.0)) for grad in grads]      \n",
        "        self.opt.apply_gradients(zip(grads, self.trainable_variables)) # 가중치에서 경사를 빼기\n",
        "        acc, acc_all = self.get_accuracy(y_batch, h)\n",
        "\n",
        "        if j==0:\n",
        "          print('%d/%d loss:%.3f acc:(%.3f all:%.3f)'%(i, epoch, loss, acc, acc_all))\n",
        "model = MyModel()"
      ],
      "execution_count": 0,
      "outputs": []
    },
    {
      "cell_type": "code",
      "metadata": {
        "id": "ZDRQB9c2ofas",
        "colab_type": "code",
        "colab": {
          "base_uri": "https://localhost:8080/",
          "height": 1000
        },
        "outputId": "5222e5a0-ebb3-4079-9f66-71aebdf97b45"
      },
      "source": [
        "model.fit(x3_train[:1000], y3_train[:1000], epoch=100)"
      ],
      "execution_count": 20,
      "outputs": [
        {
          "output_type": "stream",
          "text": [
            "0/100 loss:0.232 acc:(0.083 all:0.000)\n",
            "1/100 loss:0.226 acc:(0.217 all:0.000)\n",
            "2/100 loss:0.224 acc:(0.223 all:0.010)\n",
            "3/100 loss:0.221 acc:(0.223 all:0.010)\n",
            "4/100 loss:0.220 acc:(0.223 all:0.010)\n",
            "5/100 loss:0.221 acc:(0.193 all:0.000)\n",
            "6/100 loss:0.221 acc:(0.223 all:0.010)\n",
            "7/100 loss:0.220 acc:(0.223 all:0.010)\n",
            "8/100 loss:0.220 acc:(0.227 all:0.010)\n",
            "9/100 loss:0.219 acc:(0.217 all:0.020)\n",
            "10/100 loss:0.220 acc:(0.207 all:0.020)\n",
            "11/100 loss:0.219 acc:(0.183 all:0.010)\n",
            "12/100 loss:0.215 acc:(0.230 all:0.020)\n",
            "13/100 loss:0.214 acc:(0.243 all:0.030)\n",
            "14/100 loss:0.211 acc:(0.253 all:0.030)\n",
            "15/100 loss:0.211 acc:(0.270 all:0.010)\n",
            "16/100 loss:0.210 acc:(0.270 all:0.020)\n",
            "17/100 loss:0.209 acc:(0.263 all:0.030)\n",
            "18/100 loss:0.209 acc:(0.300 all:0.020)\n",
            "19/100 loss:0.209 acc:(0.270 all:0.010)\n",
            "20/100 loss:0.203 acc:(0.307 all:0.020)\n",
            "21/100 loss:0.199 acc:(0.297 all:0.030)\n",
            "22/100 loss:0.197 acc:(0.307 all:0.020)\n",
            "23/100 loss:0.194 acc:(0.303 all:0.020)\n",
            "24/100 loss:0.189 acc:(0.353 all:0.040)\n",
            "25/100 loss:0.190 acc:(0.317 all:0.040)\n",
            "26/100 loss:0.192 acc:(0.350 all:0.050)\n",
            "27/100 loss:0.192 acc:(0.293 all:0.010)\n",
            "28/100 loss:0.181 acc:(0.390 all:0.050)\n",
            "29/100 loss:0.175 acc:(0.397 all:0.040)\n",
            "30/100 loss:0.173 acc:(0.383 all:0.040)\n",
            "31/100 loss:0.174 acc:(0.393 all:0.060)\n",
            "32/100 loss:0.161 acc:(0.420 all:0.080)\n",
            "33/100 loss:0.163 acc:(0.410 all:0.050)\n",
            "34/100 loss:0.157 acc:(0.453 all:0.100)\n",
            "35/100 loss:0.148 acc:(0.460 all:0.080)\n",
            "36/100 loss:0.147 acc:(0.497 all:0.150)\n",
            "37/100 loss:0.152 acc:(0.470 all:0.120)\n",
            "38/100 loss:0.140 acc:(0.507 all:0.140)\n",
            "39/100 loss:0.142 acc:(0.523 all:0.100)\n",
            "40/100 loss:0.146 acc:(0.490 all:0.120)\n",
            "41/100 loss:0.131 acc:(0.557 all:0.210)\n",
            "42/100 loss:0.129 acc:(0.547 all:0.200)\n",
            "43/100 loss:0.141 acc:(0.537 all:0.150)\n",
            "44/100 loss:0.129 acc:(0.567 all:0.220)\n",
            "45/100 loss:0.120 acc:(0.590 all:0.240)\n",
            "46/100 loss:0.132 acc:(0.563 all:0.210)\n",
            "47/100 loss:0.119 acc:(0.620 all:0.250)\n",
            "48/100 loss:0.139 acc:(0.520 all:0.170)\n",
            "49/100 loss:0.114 acc:(0.637 all:0.350)\n",
            "50/100 loss:0.114 acc:(0.613 all:0.270)\n",
            "51/100 loss:0.129 acc:(0.573 all:0.190)\n",
            "52/100 loss:0.131 acc:(0.560 all:0.200)\n",
            "53/100 loss:0.108 acc:(0.617 all:0.260)\n",
            "54/100 loss:0.111 acc:(0.627 all:0.270)\n",
            "55/100 loss:0.114 acc:(0.603 all:0.310)\n",
            "56/100 loss:0.115 acc:(0.617 all:0.280)\n",
            "57/100 loss:0.112 acc:(0.620 all:0.260)\n",
            "58/100 loss:0.106 acc:(0.623 all:0.320)\n",
            "59/100 loss:0.117 acc:(0.600 all:0.260)\n",
            "60/100 loss:0.108 acc:(0.633 all:0.300)\n",
            "61/100 loss:0.105 acc:(0.647 all:0.310)\n",
            "62/100 loss:0.099 acc:(0.643 all:0.340)\n",
            "63/100 loss:0.101 acc:(0.683 all:0.390)\n",
            "64/100 loss:0.111 acc:(0.583 all:0.220)\n",
            "65/100 loss:0.096 acc:(0.677 all:0.380)\n",
            "66/100 loss:0.095 acc:(0.680 all:0.390)\n",
            "67/100 loss:0.109 acc:(0.623 all:0.250)\n",
            "68/100 loss:0.092 acc:(0.683 all:0.400)\n",
            "69/100 loss:0.090 acc:(0.680 all:0.370)\n",
            "70/100 loss:0.096 acc:(0.697 all:0.390)\n",
            "71/100 loss:0.096 acc:(0.650 all:0.310)\n",
            "72/100 loss:0.093 acc:(0.690 all:0.420)\n",
            "73/100 loss:0.102 acc:(0.643 all:0.320)\n",
            "74/100 loss:0.101 acc:(0.620 all:0.270)\n",
            "75/100 loss:0.093 acc:(0.673 all:0.380)\n",
            "76/100 loss:0.086 acc:(0.703 all:0.430)\n",
            "77/100 loss:0.080 acc:(0.730 all:0.450)\n",
            "78/100 loss:0.116 acc:(0.597 all:0.200)\n",
            "79/100 loss:0.095 acc:(0.670 all:0.340)\n",
            "80/100 loss:0.078 acc:(0.743 all:0.480)\n",
            "81/100 loss:0.081 acc:(0.710 all:0.460)\n",
            "82/100 loss:0.094 acc:(0.653 all:0.310)\n",
            "83/100 loss:0.109 acc:(0.630 all:0.310)\n",
            "84/100 loss:0.080 acc:(0.707 all:0.410)\n",
            "85/100 loss:0.073 acc:(0.743 all:0.470)\n",
            "86/100 loss:0.084 acc:(0.710 all:0.430)\n",
            "87/100 loss:0.102 acc:(0.613 all:0.250)\n",
            "88/100 loss:0.077 acc:(0.740 all:0.490)\n",
            "89/100 loss:0.069 acc:(0.770 all:0.480)\n",
            "90/100 loss:0.067 acc:(0.767 all:0.470)\n",
            "91/100 loss:0.091 acc:(0.663 all:0.340)\n",
            "92/100 loss:0.060 acc:(0.813 all:0.600)\n",
            "93/100 loss:0.078 acc:(0.710 all:0.390)\n",
            "94/100 loss:0.098 acc:(0.657 all:0.340)\n",
            "95/100 loss:0.071 acc:(0.747 all:0.440)\n",
            "96/100 loss:0.061 acc:(0.810 all:0.560)\n",
            "97/100 loss:0.098 acc:(0.647 all:0.310)\n",
            "98/100 loss:0.072 acc:(0.757 all:0.510)\n",
            "99/100 loss:0.089 acc:(0.673 all:0.370)\n"
          ],
          "name": "stdout"
        }
      ]
    },
    {
      "cell_type": "code",
      "metadata": {
        "id": "4t0AASHzaLOm",
        "colab_type": "code",
        "colab": {
          "base_uri": "https://localhost:8080/",
          "height": 164
        },
        "outputId": "952e30c3-e083-41ff-848e-331a4bd87ed9"
      },
      "source": [
        "h = model(x3_test)\n",
        "acc, acc_all = model.get_accuracy(y3_test, h)\n",
        "print('개별정확도',acc.numpy(), '이미지별 정확도',acc_all.numpy())"
      ],
      "execution_count": 21,
      "outputs": [
        {
          "output_type": "stream",
          "text": [
            "WARNING:tensorflow:Layer my_model_3 is casting an input tensor from dtype float64 to the layer's dtype of float32, which is new behavior in TensorFlow 2.  The layer has dtype float32 because it's dtype defaults to floatx.\n",
            "\n",
            "If you intended to run this layer in float32, you can safely ignore this warning. If in doubt, this warning is likely only an issue if you are porting a TensorFlow 1.X model to TensorFlow 2.\n",
            "\n",
            "To change all layers to have dtype float64 by default, call `tf.keras.backend.set_floatx('float64')`. To change just this layer, pass dtype='float64' to the layer constructor. If you are the author of this layer, you can disable autocasting by passing autocast=False to the base Layer constructor.\n",
            "\n",
            "개별정확도 0.29183957 이미지별 정확도 0.024204703\n"
          ],
          "name": "stdout"
        }
      ]
    },
    {
      "cell_type": "code",
      "metadata": {
        "id": "1OZ8f41nbBps",
        "colab_type": "code",
        "colab": {}
      },
      "source": [
        ""
      ],
      "execution_count": 0,
      "outputs": []
    }
  ]
}